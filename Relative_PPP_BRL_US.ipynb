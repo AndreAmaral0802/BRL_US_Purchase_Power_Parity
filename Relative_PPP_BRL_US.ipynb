{
 "cells": [
  {
   "cell_type": "markdown",
   "id": "c30aa718",
   "metadata": {},
   "source": [
    "# Relative Purchase Power BRL x US"
   ]
  },
  {
   "cell_type": "code",
   "execution_count": 52,
   "id": "8e9ad33c",
   "metadata": {},
   "outputs": [],
   "source": [
    "import pandas as pd\n",
    "import numpy as np\n",
    "import seaborn as sns\n",
    "import matplotlib.pyplot as plt\n",
    "\n",
    "import matplotlib"
   ]
  },
  {
   "cell_type": "code",
   "execution_count": 53,
   "id": "528ffcff",
   "metadata": {},
   "outputs": [
    {
     "data": {
      "text/html": [
       "<div>\n",
       "<style scoped>\n",
       "    .dataframe tbody tr th:only-of-type {\n",
       "        vertical-align: middle;\n",
       "    }\n",
       "\n",
       "    .dataframe tbody tr th {\n",
       "        vertical-align: top;\n",
       "    }\n",
       "\n",
       "    .dataframe thead th {\n",
       "        text-align: right;\n",
       "    }\n",
       "</style>\n",
       "<table border=\"1\" class=\"dataframe\">\n",
       "  <thead>\n",
       "    <tr style=\"text-align: right;\">\n",
       "      <th></th>\n",
       "      <th>Brazil_CPI_Variation</th>\n",
       "      <th>US_CPI</th>\n",
       "      <th>BRL_US</th>\n",
       "    </tr>\n",
       "    <tr>\n",
       "      <th>Date</th>\n",
       "      <th></th>\n",
       "      <th></th>\n",
       "      <th></th>\n",
       "    </tr>\n",
       "  </thead>\n",
       "  <tbody>\n",
       "    <tr>\n",
       "      <th>2004-01-01</th>\n",
       "      <td>0.76</td>\n",
       "      <td>0.54</td>\n",
       "      <td>0.3411</td>\n",
       "    </tr>\n",
       "    <tr>\n",
       "      <th>2004-01-02</th>\n",
       "      <td>0.61</td>\n",
       "      <td>0.64</td>\n",
       "      <td>0.3442</td>\n",
       "    </tr>\n",
       "    <tr>\n",
       "      <th>2004-01-03</th>\n",
       "      <td>0.47</td>\n",
       "      <td>0.32</td>\n",
       "      <td>0.3454</td>\n",
       "    </tr>\n",
       "    <tr>\n",
       "      <th>2004-01-04</th>\n",
       "      <td>0.37</td>\n",
       "      <td>0.59</td>\n",
       "      <td>0.3413</td>\n",
       "    </tr>\n",
       "    <tr>\n",
       "      <th>2004-01-05</th>\n",
       "      <td>0.51</td>\n",
       "      <td>0.32</td>\n",
       "      <td>0.3138</td>\n",
       "    </tr>\n",
       "    <tr>\n",
       "      <th>2004-01-06</th>\n",
       "      <td>0.71</td>\n",
       "      <td>-0.16</td>\n",
       "      <td>0.3241</td>\n",
       "    </tr>\n",
       "    <tr>\n",
       "      <th>2004-01-07</th>\n",
       "      <td>0.91</td>\n",
       "      <td>0.05</td>\n",
       "      <td>0.3294</td>\n",
       "    </tr>\n",
       "    <tr>\n",
       "      <th>2004-01-08</th>\n",
       "      <td>0.69</td>\n",
       "      <td>0.21</td>\n",
       "      <td>0.3388</td>\n",
       "    </tr>\n",
       "    <tr>\n",
       "      <th>2004-01-09</th>\n",
       "      <td>0.33</td>\n",
       "      <td>0.53</td>\n",
       "      <td>NaN</td>\n",
       "    </tr>\n",
       "    <tr>\n",
       "      <th>2004-01-10</th>\n",
       "      <td>0.44</td>\n",
       "      <td>0.05</td>\n",
       "      <td>NaN</td>\n",
       "    </tr>\n",
       "  </tbody>\n",
       "</table>\n",
       "</div>"
      ],
      "text/plain": [
       "            Brazil_CPI_Variation  US_CPI  BRL_US\n",
       "Date                                            \n",
       "2004-01-01                  0.76    0.54  0.3411\n",
       "2004-01-02                  0.61    0.64  0.3442\n",
       "2004-01-03                  0.47    0.32  0.3454\n",
       "2004-01-04                  0.37    0.59  0.3413\n",
       "2004-01-05                  0.51    0.32  0.3138\n",
       "2004-01-06                  0.71   -0.16  0.3241\n",
       "2004-01-07                  0.91    0.05  0.3294\n",
       "2004-01-08                  0.69    0.21  0.3388\n",
       "2004-01-09                  0.33    0.53     NaN\n",
       "2004-01-10                  0.44    0.05     NaN"
      ]
     },
     "execution_count": 53,
     "metadata": {},
     "output_type": "execute_result"
    }
   ],
   "source": [
    "df = pd.read_csv('C:/Andre files/Relative_Purchase_Parity/BRL_PPP.csv',index_col='Date',parse_dates=True)\n",
    "df.head(10)"
   ]
  },
  {
   "cell_type": "code",
   "execution_count": 54,
   "id": "d0342fd0",
   "metadata": {},
   "outputs": [
    {
     "data": {
      "text/plain": [
       "BRL_US                  18\n",
       "Brazil_CPI_Variation     0\n",
       "US_CPI                   0\n",
       "dtype: int64"
      ]
     },
     "execution_count": 54,
     "metadata": {},
     "output_type": "execute_result"
    }
   ],
   "source": [
    "# Finding missing values\n",
    "df.isna().sum().sort_values(ascending=False)"
   ]
  },
  {
   "cell_type": "code",
   "execution_count": 55,
   "id": "97c6e547",
   "metadata": {},
   "outputs": [],
   "source": [
    "# Calculate the mean of the first 8 values\n",
    "mean_fill_value = df['BRL_US'].iloc[:8].mean()\n",
    "\n",
    "# Fill the missing values with the mean\n",
    "df['BRL_US'] = df['BRL_US'].fillna(mean_fill_value)"
   ]
  },
  {
   "cell_type": "code",
   "execution_count": 56,
   "id": "633afbb8",
   "metadata": {},
   "outputs": [
    {
     "data": {
      "text/html": [
       "<div>\n",
       "<style scoped>\n",
       "    .dataframe tbody tr th:only-of-type {\n",
       "        vertical-align: middle;\n",
       "    }\n",
       "\n",
       "    .dataframe tbody tr th {\n",
       "        vertical-align: top;\n",
       "    }\n",
       "\n",
       "    .dataframe thead th {\n",
       "        text-align: right;\n",
       "    }\n",
       "</style>\n",
       "<table border=\"1\" class=\"dataframe\">\n",
       "  <thead>\n",
       "    <tr style=\"text-align: right;\">\n",
       "      <th></th>\n",
       "      <th>Brazil_CPI_Variation</th>\n",
       "      <th>US_CPI</th>\n",
       "      <th>BRL_US</th>\n",
       "    </tr>\n",
       "    <tr>\n",
       "      <th>Date</th>\n",
       "      <th></th>\n",
       "      <th></th>\n",
       "      <th></th>\n",
       "    </tr>\n",
       "  </thead>\n",
       "  <tbody>\n",
       "    <tr>\n",
       "      <th>2004-01-01</th>\n",
       "      <td>0.76</td>\n",
       "      <td>0.54</td>\n",
       "      <td>0.341100</td>\n",
       "    </tr>\n",
       "    <tr>\n",
       "      <th>2004-01-02</th>\n",
       "      <td>0.61</td>\n",
       "      <td>0.64</td>\n",
       "      <td>0.344200</td>\n",
       "    </tr>\n",
       "    <tr>\n",
       "      <th>2004-01-03</th>\n",
       "      <td>0.47</td>\n",
       "      <td>0.32</td>\n",
       "      <td>0.345400</td>\n",
       "    </tr>\n",
       "    <tr>\n",
       "      <th>2004-01-04</th>\n",
       "      <td>0.37</td>\n",
       "      <td>0.59</td>\n",
       "      <td>0.341300</td>\n",
       "    </tr>\n",
       "    <tr>\n",
       "      <th>2004-01-05</th>\n",
       "      <td>0.51</td>\n",
       "      <td>0.32</td>\n",
       "      <td>0.313800</td>\n",
       "    </tr>\n",
       "    <tr>\n",
       "      <th>2004-01-06</th>\n",
       "      <td>0.71</td>\n",
       "      <td>-0.16</td>\n",
       "      <td>0.324100</td>\n",
       "    </tr>\n",
       "    <tr>\n",
       "      <th>2004-01-07</th>\n",
       "      <td>0.91</td>\n",
       "      <td>0.05</td>\n",
       "      <td>0.329400</td>\n",
       "    </tr>\n",
       "    <tr>\n",
       "      <th>2004-01-08</th>\n",
       "      <td>0.69</td>\n",
       "      <td>0.21</td>\n",
       "      <td>0.338800</td>\n",
       "    </tr>\n",
       "    <tr>\n",
       "      <th>2004-01-09</th>\n",
       "      <td>0.33</td>\n",
       "      <td>0.53</td>\n",
       "      <td>0.334763</td>\n",
       "    </tr>\n",
       "    <tr>\n",
       "      <th>2004-01-10</th>\n",
       "      <td>0.44</td>\n",
       "      <td>0.05</td>\n",
       "      <td>0.334763</td>\n",
       "    </tr>\n",
       "    <tr>\n",
       "      <th>2004-01-11</th>\n",
       "      <td>0.69</td>\n",
       "      <td>-0.37</td>\n",
       "      <td>0.334763</td>\n",
       "    </tr>\n",
       "    <tr>\n",
       "      <th>2004-01-12</th>\n",
       "      <td>0.86</td>\n",
       "      <td>0.21</td>\n",
       "      <td>0.334763</td>\n",
       "    </tr>\n",
       "    <tr>\n",
       "      <th>2005-01-01</th>\n",
       "      <td>0.58</td>\n",
       "      <td>0.58</td>\n",
       "      <td>0.334763</td>\n",
       "    </tr>\n",
       "    <tr>\n",
       "      <th>2005-01-02</th>\n",
       "      <td>0.59</td>\n",
       "      <td>0.78</td>\n",
       "      <td>0.334763</td>\n",
       "    </tr>\n",
       "    <tr>\n",
       "      <th>2005-01-03</th>\n",
       "      <td>0.61</td>\n",
       "      <td>0.67</td>\n",
       "      <td>0.334763</td>\n",
       "    </tr>\n",
       "    <tr>\n",
       "      <th>2005-01-04</th>\n",
       "      <td>0.87</td>\n",
       "      <td>-0.10</td>\n",
       "      <td>0.334763</td>\n",
       "    </tr>\n",
       "  </tbody>\n",
       "</table>\n",
       "</div>"
      ],
      "text/plain": [
       "            Brazil_CPI_Variation  US_CPI    BRL_US\n",
       "Date                                              \n",
       "2004-01-01                  0.76    0.54  0.341100\n",
       "2004-01-02                  0.61    0.64  0.344200\n",
       "2004-01-03                  0.47    0.32  0.345400\n",
       "2004-01-04                  0.37    0.59  0.341300\n",
       "2004-01-05                  0.51    0.32  0.313800\n",
       "2004-01-06                  0.71   -0.16  0.324100\n",
       "2004-01-07                  0.91    0.05  0.329400\n",
       "2004-01-08                  0.69    0.21  0.338800\n",
       "2004-01-09                  0.33    0.53  0.334763\n",
       "2004-01-10                  0.44    0.05  0.334763\n",
       "2004-01-11                  0.69   -0.37  0.334763\n",
       "2004-01-12                  0.86    0.21  0.334763\n",
       "2005-01-01                  0.58    0.58  0.334763\n",
       "2005-01-02                  0.59    0.78  0.334763\n",
       "2005-01-03                  0.61    0.67  0.334763\n",
       "2005-01-04                  0.87   -0.10  0.334763"
      ]
     },
     "execution_count": 56,
     "metadata": {},
     "output_type": "execute_result"
    }
   ],
   "source": [
    "df.head(16)"
   ]
  },
  {
   "cell_type": "code",
   "execution_count": 57,
   "id": "88bbaefb",
   "metadata": {},
   "outputs": [
    {
     "name": "stdout",
     "output_type": "stream",
     "text": [
      "<class 'pandas.core.frame.DataFrame'>\n",
      "DatetimeIndex: 230 entries, 2004-01-01 to 2023-01-02\n",
      "Data columns (total 3 columns):\n",
      " #   Column                Non-Null Count  Dtype  \n",
      "---  ------                --------------  -----  \n",
      " 0   Brazil_CPI_Variation  230 non-null    float64\n",
      " 1   US_CPI                230 non-null    float64\n",
      " 2   BRL_US                230 non-null    float64\n",
      "dtypes: float64(3)\n",
      "memory usage: 7.2 KB\n"
     ]
    }
   ],
   "source": [
    "df.info()"
   ]
  },
  {
   "cell_type": "code",
   "execution_count": 58,
   "id": "aaa33a1d",
   "metadata": {},
   "outputs": [
    {
     "data": {
      "image/png": "[encoded data removed]",
      "text/plain": [
       "<Figure size 1008x432 with 1 Axes>"
      ]
     },
     "metadata": {
      "needs_background": "light"
     },
     "output_type": "display_data"
    }
   ],
   "source": [
    "import matplotlib.dates as mdates\n",
    "\n",
    "# Set figure size\n",
    "plt.figure(figsize=(14, 6))\n",
    "\n",
    "# Plot the first variable\n",
    "plt.plot(df['Brazil_CPI_Variation'], color='green', label='BRAZIL CPI')\n",
    "\n",
    "# Plot the second variable\n",
    "plt.plot(df['US_CPI'], color='blue', label='US CPI')\n",
    "\n",
    "# Set the x-axis intervals (e.g., 2-year intervals)\n",
    "plt.gca().xaxis.set_major_locator(mdates.YearLocator(base=2))\n",
    "plt.gca().xaxis.set_major_formatter(mdates.DateFormatter('%Y'))\n",
    "\n",
    "# Set title and labels\n",
    "plt.title('Consumer Price Index for Brazil and US')\n",
    "plt.xlabel('Date')\n",
    "plt.ylabel('CPI')\n",
    "\n",
    "# Rotate the x-axis tick labels if needed\n",
    "plt.xticks(rotation=45)\n",
    "\n",
    "# Set y-axis range\n",
    "plt.ylim(-5, 5)\n",
    "\n",
    "# Display legend\n",
    "plt.legend()\n",
    "\n",
    "# Display the chart\n",
    "plt.show()"
   ]
  },
  {
   "cell_type": "code",
   "execution_count": 59,
   "id": "d42e19d6",
   "metadata": {},
   "outputs": [
    {
     "data": {
      "text/html": [
       "<div>\n",
       "<style scoped>\n",
       "    .dataframe tbody tr th:only-of-type {\n",
       "        vertical-align: middle;\n",
       "    }\n",
       "\n",
       "    .dataframe tbody tr th {\n",
       "        vertical-align: top;\n",
       "    }\n",
       "\n",
       "    .dataframe thead th {\n",
       "        text-align: right;\n",
       "    }\n",
       "</style>\n",
       "<table border=\"1\" class=\"dataframe\">\n",
       "  <thead>\n",
       "    <tr style=\"text-align: right;\">\n",
       "      <th></th>\n",
       "      <th>Brazil_CPI_Variation</th>\n",
       "      <th>US_CPI</th>\n",
       "      <th>BRL_US</th>\n",
       "    </tr>\n",
       "    <tr>\n",
       "      <th>Date</th>\n",
       "      <th></th>\n",
       "      <th></th>\n",
       "      <th></th>\n",
       "    </tr>\n",
       "  </thead>\n",
       "  <tbody>\n",
       "    <tr>\n",
       "      <th>2022-01-10</th>\n",
       "      <td>0.59</td>\n",
       "      <td>-0.10</td>\n",
       "      <td>0.1891</td>\n",
       "    </tr>\n",
       "    <tr>\n",
       "      <th>2022-01-11</th>\n",
       "      <td>0.41</td>\n",
       "      <td>-0.31</td>\n",
       "      <td>0.1898</td>\n",
       "    </tr>\n",
       "    <tr>\n",
       "      <th>2022-01-12</th>\n",
       "      <td>0.62</td>\n",
       "      <td>0.80</td>\n",
       "      <td>0.1893</td>\n",
       "    </tr>\n",
       "    <tr>\n",
       "      <th>2023-01-01</th>\n",
       "      <td>0.53</td>\n",
       "      <td>0.56</td>\n",
       "      <td>0.1955</td>\n",
       "    </tr>\n",
       "    <tr>\n",
       "      <th>2023-01-02</th>\n",
       "      <td>0.84</td>\n",
       "      <td>0.33</td>\n",
       "      <td>0.1923</td>\n",
       "    </tr>\n",
       "  </tbody>\n",
       "</table>\n",
       "</div>"
      ],
      "text/plain": [
       "            Brazil_CPI_Variation  US_CPI  BRL_US\n",
       "Date                                            \n",
       "2022-01-10                  0.59   -0.10  0.1891\n",
       "2022-01-11                  0.41   -0.31  0.1898\n",
       "2022-01-12                  0.62    0.80  0.1893\n",
       "2023-01-01                  0.53    0.56  0.1955\n",
       "2023-01-02                  0.84    0.33  0.1923"
      ]
     },
     "execution_count": 59,
     "metadata": {},
     "output_type": "execute_result"
    }
   ],
   "source": [
    "df.tail()"
   ]
  },
  {
   "cell_type": "code",
   "execution_count": 60,
   "id": "0b250518",
   "metadata": {},
   "outputs": [
    {
     "name": "stdout",
     "output_type": "stream",
     "text": [
      "Cumulative Inflation (BR): 2.94381 (294.38%)\n",
      "Cumulative Inflation (US): 1.62981 (162.98%)\n"
     ]
    }
   ],
   "source": [
    "# Calculate the cumulative inflation for the BRL\n",
    "BR_inflation_percentage = df['Brazil_CPI_Variation']\n",
    "BR_cumulative_inflation = (1 + BR_inflation_percentage / 100).cumprod().iloc[-1]\n",
    "\n",
    "# Calculate the cumulative inflation for the US\n",
    "us_inflation_percentage = df['US_CPI']\n",
    "us_cumulative_inflation = (1 + us_inflation_percentage / 100).cumprod().iloc[-1]\n",
    "\n",
    "# Print the results\n",
    "print(f\"Cumulative Inflation (BR): {BR_cumulative_inflation:.5f} ({BR_cumulative_inflation * 100:.2f}%)\")\n",
    "print(f\"Cumulative Inflation (US): {us_cumulative_inflation:.5f} ({us_cumulative_inflation * 100:.2f}%)\")"
   ]
  },
  {
   "cell_type": "code",
   "execution_count": 61,
   "id": "1ba27baa",
   "metadata": {},
   "outputs": [
    {
     "name": "stdout",
     "output_type": "stream",
     "text": [
      "Exchange Rate Difference: -43.62%\n"
     ]
    }
   ],
   "source": [
    "# Calculate the exchange rate difference\n",
    "initial_rate = df['BRL_US'].iloc[0]\n",
    "current_rate = df['BRL_US'].iloc[-1]\n",
    "exchange_rate_difference = ((current_rate - initial_rate) / initial_rate) * 100\n",
    "\n",
    "# Print the result\n",
    "print(f\"Exchange Rate Difference: {exchange_rate_difference:.2f}%\")"
   ]
  },
  {
   "cell_type": "markdown",
   "id": "0220b9f6",
   "metadata": {},
   "source": [
    "A -43.62% exchange rate difference suggests that the BRL has experienced a significant decline in value relative to the USD. This can have various implications, such as reduced purchasing power of the BRL when exchanging it for USD or increased costs for imports denominated in USD."
   ]
  },
  {
   "cell_type": "code",
   "execution_count": 62,
   "id": "3d3e83f7",
   "metadata": {},
   "outputs": [
    {
     "name": "stdout",
     "output_type": "stream",
     "text": [
      "Purchasing Power Loss: -128.41938\n"
     ]
    }
   ],
   "source": [
    "# Calculate the purchasing power loss\n",
    "purchasing_power_loss = BR_cumulative_inflation * exchange_rate_difference\n",
    "\n",
    "# Print the result\n",
    "print(f\"Purchasing Power Loss: {purchasing_power_loss:.5f}\")"
   ]
  },
  {
   "cell_type": "markdown",
   "id": "0499760f",
   "metadata": {},
   "source": [
    "The calculated purchasing power loss of -128.41938 represents a negative value, indicating a loss in purchasing power. It implies that the combined effect of cumulative inflation and the exchange rate difference has eroded the value of the currency (in this case, BRL) in terms of purchasing goods and services.\n",
    "\n",
    "A negative purchasing power loss suggests that the value of money has decreased over time. In other words, with a purchasing power loss of -128.41938, it means that the amount of goods and services that can be purchased with a given amount of BRL has decreased."
   ]
  },
  {
   "cell_type": "code",
   "execution_count": 63,
   "id": "ae013ad0",
   "metadata": {},
   "outputs": [
    {
     "name": "stdout",
     "output_type": "stream",
     "text": [
      "Relative Purchasing Power Parity: -0.06907\n"
     ]
    }
   ],
   "source": [
    "# Calculate the relative purchasing power parity\n",
    "relative_purchasing_power_parity = BR_cumulative_inflation / (1 + exchange_rate_difference)\n",
    "# Print the result\n",
    "print(f\"Relative Purchasing Power Parity: {relative_purchasing_power_parity:.5f}\")"
   ]
  },
  {
   "cell_type": "code",
   "execution_count": 64,
   "id": "979c09fc",
   "metadata": {},
   "outputs": [
    {
     "data": {
      "image/png": "[encoded data removed]",
      "text/plain": [
       "<Figure size 720x432 with 1 Axes>"
      ]
     },
     "metadata": {
      "needs_background": "light"
     },
     "output_type": "display_data"
    },
    {
     "name": "stdout",
     "output_type": "stream",
     "text": [
      "-6.907000000000001\n"
     ]
    }
   ],
   "source": [
    "# Relative purchasing power parity value\n",
    "relative_purchasing_power_parity = -0.06907 *100\n",
    "\n",
    "# Create a line chart\n",
    "plt.figure(figsize=(10, 6))\n",
    "plt.plot([0, 1], [1, relative_purchasing_power_parity], color='blue', marker='o', linestyle='-', linewidth=2)\n",
    "\n",
    "# Title and labels\n",
    "plt.title('Relative Purchasing Power Parity')\n",
    "plt.xlabel('Currencies')\n",
    "plt.ylabel('Relative Value')\n",
    "\n",
    "# Set the x-axis ticks and labels\n",
    "plt.xticks([0, 1], ['USD', 'BRL'])\n",
    "\n",
    "# Display the chart\n",
    "plt.show()\n",
    "print(relative_purchasing_power_parity)"
   ]
  },
  {
   "cell_type": "markdown",
   "id": "9117b216",
   "metadata": {},
   "source": [
    "\n",
    "The calculated relative purchasing power parity value of -0.06907 indicates a negative value. Relative purchasing power parity is a measure that compares the cumulative inflation rate of a currency (in this case, BRL) to the exchange rate difference with another currency (USD).\n",
    "\n",
    "A negative relative purchasing power parity suggests that, considering the combined effect of cumulative inflation and the exchange rate difference, the purchasing power of BRL has decreased relative to USD. In other words, it implies that the value of BRL has weakened in terms of its ability to purchase goods and services compared to USD."
   ]
  },
  {
   "cell_type": "code",
   "execution_count": 67,
   "id": "ff0215f9",
   "metadata": {},
   "outputs": [
    {
     "name": "stdout",
     "output_type": "stream",
     "text": [
      "Fair FX Value (BRL/USD): 0.2687\n"
     ]
    }
   ],
   "source": [
    "# Calculate the fair FX value\n",
    "last_exchange_rate = df['BRL_US'].iloc[-1]\n",
    "fair_fx_value = (1 + df['Brazil_CPI_Variation'].sum() / 100) / (1 + df['US_CPI'].sum() / 100) * last_exchange_rate\n",
    "\n",
    "# Print the result\n",
    "print(f\"Fair FX Value (BRL/USD): {fair_fx_value:.4f}\")"
   ]
  },
  {
   "cell_type": "code",
   "execution_count": 68,
   "id": "eddf89e2",
   "metadata": {},
   "outputs": [
    {
     "name": "stdout",
     "output_type": "stream",
     "text": [
      "Fair FX Value (USD/BRL): 3.7216\n"
     ]
    }
   ],
   "source": [
    "brl_usd_fair_value = 0.2687\n",
    "usd_brl_fair_value = 1 / brl_usd_fair_value\n",
    "\n",
    "print(f\"Fair FX Value (USD/BRL): {usd_brl_fair_value:.4f}\")"
   ]
  },
  {
   "cell_type": "code",
   "execution_count": 69,
   "id": "ce1e1bf9",
   "metadata": {},
   "outputs": [
    {
     "name": "stdout",
     "output_type": "stream",
     "text": [
      "20.4688\n"
     ]
    }
   ],
   "source": [
    "US_Big_Mac = 5.50\n",
    "BRL_Big_Mac = 22.90\n",
    "Big_Mac_Fair_Value_BRL = US_Big_Mac * 3.7216\n",
    "print(Big_Mac_Fair_Value_BRL)"
   ]
  },
  {
   "cell_type": "code",
   "execution_count": null,
   "id": "cb8032de",
   "metadata": {},
   "outputs": [],
   "source": []
  },
  {
   "cell_type": "code",
   "execution_count": null,
   "id": "fad27745",
   "metadata": {},
   "outputs": [],
   "source": []
  }
 ],
 "metadata": {
  "kernelspec": {
   "display_name": "Python 3 (ipykernel)",
   "language": "python",
   "name": "python3"
  },
  "language_info": {
   "codemirror_mode": {
    "name": "ipython",
    "version": 3
   },
   "file_extension": ".py",
   "mimetype": "text/x-python",
   "name": "python",
   "nbconvert_exporter": "python",
   "pygments_lexer": "ipython3",
   "version": "3.9.12"
  }
 },
 "nbformat": 4,
 "nbformat_minor": 5
}
